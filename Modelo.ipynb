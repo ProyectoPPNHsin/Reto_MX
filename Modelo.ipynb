{
  "nbformat": 4,
  "nbformat_minor": 0,
  "metadata": {
    "kernelspec": {
      "display_name": "Python 3",
      "language": "python",
      "name": "python3"
    },
    "language_info": {
      "codemirror_mode": {
        "name": "ipython",
        "version": 3
      },
      "file_extension": ".py",
      "mimetype": "text/x-python",
      "name": "python",
      "nbconvert_exporter": "python",
      "pygments_lexer": "ipython3",
      "version": "3.8.3"
    },
    "colab": {
      "name": "Modelo.ipynb",
      "provenance": []
    }
  },
  "cells": [
    {
      "cell_type": "markdown",
      "metadata": {
        "id": "5qyTGGWZKXqH"
      },
      "source": [
        "#Modelo de programación lineal\n",
        "\n",
        "* Sea $G=(V,E)$ la gráfica que describe el problema. Con $V$ el conjunto de nodos (clientes) y $E$ el conjunto de aristas (conexiones entre clientes). En este caso tenemos que todos los clientes están conectados.\n",
        "\n",
        "* Cada nodo $i\\in V$ tiene asociado coordenadas geográficas $(c_x,c_y)$, volumen de entrega $w_i$ y frecuencia $a_i$.\n",
        "\n",
        "* Sea, también, $p$ el número de territorios. En este caso $p=6$.\n",
        "\n",
        "* El tamaño del territorio $V_k$ con $k\\in \\{1,...,p\\}$ se tomará con respecto al volumen de entrega que está dado por $w^{(2)}(V_k)=\\sum_{i\\in V_k}w_i$. Y con respecto a la cantidad de clientes $w^{(1)}(V_k)=|V_k|$.\n",
        "\n",
        "* La intersección entre territorios $V_k$ puede ser no vacía.\n",
        "\n",
        "* La distancia entre nodos $j$ e $i$ es $d_{ij}$, $j\\in V$.\n",
        "\n",
        "* Para lograr que los clientes de un mismo territorio esten lo más cercanos entre si que se pueda, se opta por minimizar la dispersión dentro del territorio y para esto se considera un valor $\\tau$ que sería la tolerancia para la desviación relativa del tamaño del territorio. El valor que se desearía alcanzar para el volumen de entrega está dado por $\\mu^{(2)} = \\sum_{i\\in V}a_iw_i/p$. Mientras que el valor deseado de clientes es $\\mu^{(1)} = \\sum_{i\\in V} a_i/p$\n",
        "\n",
        "Por lo tanto, el MPL está estructurado de la siguiente forma:\n",
        "\n",
        "Variables de decisión:\n",
        "\n",
        "$$\n",
        "x_{ij}=\n",
        "\\left\\{\n",
        "  \\begin{aligned}\n",
        "  1& \\quad \\text{si el nodo j es asignado al territorio con centro en } i;j, j\\in V\\\\\n",
        "  0& \\quad \\text{en otro caso}\n",
        "  \\end{aligned}\n",
        "\\right.\n",
        "$$\n",
        "\n",
        "Funciones objetivo\n",
        "\n",
        "$$\n",
        "\\text{Min} \\quad f_1 = \\sum_{j\\in V}\\sum_{i\\in V} d_{ij}x_{ij}\\\\\n",
        "\\text{Min} \\quad f_2 = \\max_{i\\in V}\\left\\{\\frac{1}{\\mu^{(1)}}|\\sum_{j\\in V}x_{ij}-\\mu^{(1)}x_{ij}| \\right\\}\n",
        "$$\n",
        "\n",
        "Sujeto a:\n",
        "\n",
        "$$\n",
        "\\sum_{i\\in V} x_{ii} = p\\\\\n",
        "\\sum_{i\\in V} x_{ij} = a_j \\quad \\forall j\\in V\\\\\n",
        "\\sum_{j\\in V} w_j^{(2)}x_{ij} \\geq (1-\\tau^{(2)}) \\mu^{(2)}x_{ii} \\quad i\\in V\\\\\n",
        "\\sum_{j\\in V} w_j^{(2)}x_{ij} \\leq (1-\\tau^{(2)}) \\mu^{(2)}x_{ii} \\quad i\\in V\\\\\n",
        "x_{ij}\\in \\{0,1\\} \\quad i,j\\in V\n",
        "$$\n",
        "\n",
        "#Heurística\n",
        "Ahora bien, ya que éste es un problema NP-hard tendremos que utilizar una heurística para resolver el problema. \n",
        "\n",
        "#Fase de construcción\n",
        "Iniciamos seleccionado un cliente aleatorio con un frecuencia igual a 1 que se convertirá en el primer centro. Para elegir los siguientes 6 se escoge un cliente a una distancia alrededor de la media de todos los puntos.\n",
        "\n",
        "Teniendo los 6 centros se va agregando a cada uno de ellos los clientes con mayor frecuencia y más cercas a cada centro. Cuando ya no hay clientes con frecuencia mayor a 1 cerca del centro escoge a los más cercanos hasta llegar a un límite de clientes y de volumen de carga.\n",
        "\n",
        "Se repite el algoritmo hasta cumplir toda la demanda\n",
        "\n",
        "\n",
        "##Fase de post-procesamiento \n",
        "Se inicia con la partición de territorios de la fase de construcción. $S=\\{V_1,...,V_p\\}$ donde, para cada $V_k$, con $k\\in K=\\{1,...,p\\}$ existe un centro $c(k)\\in V_{k}$. Sea $q(i)=k$ el indice de territorio para cada $i \\in V_{k}$. Para esta fase se pretenden optimizar 3 funcionen objetivo:\n",
        "\n",
        "* Medida de dispersión \n",
        "$$\n",
        "z_1(S) = \\max_{j\\in V_k,k\\in K} \\{d_{j c(k)}\\}\n",
        "$$\n",
        "\n",
        "* Desviación máxima con respecto al número de clientes\n",
        "$$\n",
        "z_{2}(S) = \\frac{1}{\\mu^{(1)}} \\max_{k\\in K}\\{\\max\\{w^{(1)}(V_{k})-\\mu^{(1)},\\mu^{(1)}-w^{(1)}(V_k)\\}\\}\n",
        "$$\n",
        "\n",
        "* Inviabilidad total\n",
        "\n",
        "$$\n",
        "z_3(S) = \\frac{1}{\\mu^{(2)}} \\sum _{k\\in K}\\max\\{w^{(2)}(V_k) - (1+\\tau^{(2)})\\mu^{(2)}, (1-\\tau^{(2)})\\mu^{(2)}-w^{(2)}(V_k),0\\}\n",
        "$$\n",
        "\n",
        "Cada función objetivo se optimizara una tras otra, es decir, la solución obtenida para $z_1(S)$, $S_1$, se utilizará en $z_2(S^1)$ y su solución, $S_2$, en $z_3(S^2)$, y finalmente, la última solución, $S^3$, se utiliza para $z_1(S^3)$\n",
        "\n",
        "Cada función se optimizará utilizando los siguientes métodos, consecutivamente, de forma similar a la descrita con las funciones objetivo:\n",
        "\n",
        "* (1,0)-Reubicación: toma un nodo de un territorio y lo cambia a otro territorio.\n",
        "* (1,1)-Intercambio: Intercambia de posición dos nodos de distintos territorios\n",
        "* (2,0)-Reubicación: Toma dos nodos de un territorio y posiciona en otro distinto.\n",
        "* (2,2)-Intercambio: Intercambia dos nodos de un territorio con dos de otro territorio.\n",
        "\n",
        "La cantidad de veces que se realizará esto es fijada por el usuario. No se pasará a la siguiente función hasta que se haya encontrado una mejor solución o se haya terminado el número de iteraciones.\n",
        "\n",
        "A su vez, el proceso de optimización de todas las funciones se repite según un límite de iteraciones.\n"
      ]
    },
    {
      "cell_type": "markdown",
      "metadata": {
        "id": "k7NdJrX0LE2X"
      },
      "source": [
        "#Código"
      ]
    },
    {
      "cell_type": "markdown",
      "metadata": {
        "id": "YScUPY77PU6y"
      },
      "source": [
        "Librerías necesarias"
      ]
    },
    {
      "cell_type": "code",
      "metadata": {
        "id": "8DqC76YRXx-W"
      },
      "source": [
        "import pandas as pd\n",
        "import sys\n",
        "import numpy as np\n",
        "import random \n",
        "from statistics import mean\n",
        "import matplotlib.pyplot as plt\n",
        "from matplotlib import pyplot\n",
        "import math\n",
        "from sklearn.cluster import KMeans\n",
        "from sklearn import datasets"
      ],
      "execution_count": 1,
      "outputs": []
    },
    {
      "cell_type": "markdown",
      "metadata": {
        "id": "kbUtjNFaPcGB"
      },
      "source": [
        "Se conecta con Google Drive"
      ]
    },
    {
      "cell_type": "code",
      "metadata": {
        "colab": {
          "base_uri": "https://localhost:8080/"
        },
        "id": "S4xq2vSMX6Co",
        "outputId": "5a16d0a4-1833-4584-a1ea-6c04a908ce44"
      },
      "source": [
        "from google.colab import drive\n",
        "drive.mount('/content/drive')"
      ],
      "execution_count": 2,
      "outputs": [
        {
          "output_type": "stream",
          "text": [
            "Mounted at /content/drive\n"
          ],
          "name": "stdout"
        }
      ]
    },
    {
      "cell_type": "markdown",
      "metadata": {
        "id": "X1r-0-9OP1wO"
      },
      "source": [
        "Lectura de los datos"
      ]
    },
    {
      "cell_type": "code",
      "metadata": {
        "id": "T49aLJW4Xx-X"
      },
      "source": [
        "import warnings\n",
        "import os\n",
        "%matplotlib inline\n",
        "warnings.filterwarnings(\"ignore\")\n",
        "# Fijar directorio\n",
        "os.chdir('/content/drive/My Drive/')\n",
        "\n",
        "#Carpeta de datos de ubicaciones\n",
        "data_csv = 'reto-mexico-2020-main/data/ubicaciones.csv'\n",
        "data = pd.read_csv(data_csv)"
      ],
      "execution_count": 6,
      "outputs": []
    },
    {
      "cell_type": "code",
      "metadata": {
        "colab": {
          "base_uri": "https://localhost:8080/",
          "height": 195
        },
        "id": "fqlBoGcgXx-X",
        "outputId": "479f850a-6a37-4532-d051-01e1c14d00a0"
      },
      "source": [
        "data.head()"
      ],
      "execution_count": 7,
      "outputs": [
        {
          "output_type": "execute_result",
          "data": {
            "text/html": [
              "<div>\n",
              "<style scoped>\n",
              "    .dataframe tbody tr th:only-of-type {\n",
              "        vertical-align: middle;\n",
              "    }\n",
              "\n",
              "    .dataframe tbody tr th {\n",
              "        vertical-align: top;\n",
              "    }\n",
              "\n",
              "    .dataframe thead th {\n",
              "        text-align: right;\n",
              "    }\n",
              "</style>\n",
              "<table border=\"1\" class=\"dataframe\">\n",
              "  <thead>\n",
              "    <tr style=\"text-align: right;\">\n",
              "      <th></th>\n",
              "      <th>Id_Cliente</th>\n",
              "      <th>id_Agencia</th>\n",
              "      <th>Frecuencia</th>\n",
              "      <th>Vol_Entrega</th>\n",
              "      <th>lat</th>\n",
              "      <th>lon</th>\n",
              "    </tr>\n",
              "  </thead>\n",
              "  <tbody>\n",
              "    <tr>\n",
              "      <th>0</th>\n",
              "      <td>1</td>\n",
              "      <td>A1</td>\n",
              "      <td>1</td>\n",
              "      <td>2.0</td>\n",
              "      <td>20.506052</td>\n",
              "      <td>-98.212377</td>\n",
              "    </tr>\n",
              "    <tr>\n",
              "      <th>1</th>\n",
              "      <td>2</td>\n",
              "      <td>A1</td>\n",
              "      <td>1</td>\n",
              "      <td>17.0</td>\n",
              "      <td>20.458128</td>\n",
              "      <td>-98.221248</td>\n",
              "    </tr>\n",
              "    <tr>\n",
              "      <th>2</th>\n",
              "      <td>3</td>\n",
              "      <td>A1</td>\n",
              "      <td>1</td>\n",
              "      <td>2.0</td>\n",
              "      <td>20.530427</td>\n",
              "      <td>-98.236860</td>\n",
              "    </tr>\n",
              "    <tr>\n",
              "      <th>3</th>\n",
              "      <td>4</td>\n",
              "      <td>A1</td>\n",
              "      <td>3</td>\n",
              "      <td>15.0</td>\n",
              "      <td>20.488655</td>\n",
              "      <td>-98.202940</td>\n",
              "    </tr>\n",
              "    <tr>\n",
              "      <th>4</th>\n",
              "      <td>5</td>\n",
              "      <td>A1</td>\n",
              "      <td>1</td>\n",
              "      <td>2.0</td>\n",
              "      <td>20.533253</td>\n",
              "      <td>-98.219669</td>\n",
              "    </tr>\n",
              "  </tbody>\n",
              "</table>\n",
              "</div>"
            ],
            "text/plain": [
              "   Id_Cliente id_Agencia  Frecuencia  Vol_Entrega        lat        lon\n",
              "0           1         A1           1          2.0  20.506052 -98.212377\n",
              "1           2         A1           1         17.0  20.458128 -98.221248\n",
              "2           3         A1           1          2.0  20.530427 -98.236860\n",
              "3           4         A1           3         15.0  20.488655 -98.202940\n",
              "4           5         A1           1          2.0  20.533253 -98.219669"
            ]
          },
          "metadata": {
            "tags": []
          },
          "execution_count": 7
        }
      ]
    },
    {
      "cell_type": "markdown",
      "metadata": {
        "id": "jSpKGEWwQJ42"
      },
      "source": [
        "Se modifica la base para hacerla más manejable"
      ]
    },
    {
      "cell_type": "code",
      "metadata": {
        "id": "c6-O4WlTXx-Y"
      },
      "source": [
        "X=data[['Id_Cliente',\"Frecuencia\",\"Vol_Entrega\",\"lat\",\"lon\"]].to_numpy()\n",
        "X=list(X)"
      ],
      "execution_count": 8,
      "outputs": []
    },
    {
      "cell_type": "markdown",
      "metadata": {
        "id": "oZTT9USmQO-T"
      },
      "source": [
        "Valores deseados de balance"
      ]
    },
    {
      "cell_type": "code",
      "metadata": {
        "id": "BhQEcOHmXx-Y"
      },
      "source": [
        "climit=data.Frecuencia.sum()/6\n",
        "vmax=data.Frecuencia*data.Vol_Entrega\n",
        "vlim=vmax.sum()/6"
      ],
      "execution_count": 9,
      "outputs": []
    },
    {
      "cell_type": "markdown",
      "metadata": {
        "id": "s_UpJJopPhhx"
      },
      "source": [
        "Función de distancia"
      ]
    },
    {
      "cell_type": "code",
      "metadata": {
        "id": "zUkqDpD_Xx-X"
      },
      "source": [
        "def haversine(coord1, coord2):\n",
        "    R = 6372800 \n",
        "    i,a,b,lat1, lon1 = coord1\n",
        "    i,a,b,lat2, lon2 = coord2\n",
        "    \n",
        "    phi1, phi2 = math.radians(lat1), math.radians(lat2) \n",
        "    dphi       = math.radians(lat2 - lat1)\n",
        "    dlambda    = math.radians(lon2 - lon1)\n",
        "    \n",
        "    a = math.sin(dphi/2)**2 + \\\n",
        "        math.cos(phi1)*math.cos(phi2)*math.sin(dlambda/2)**2\n",
        "    \n",
        "    return 2*R*math.atan2(math.sqrt(a), math.sqrt(1 - a))"
      ],
      "execution_count": 3,
      "outputs": []
    },
    {
      "cell_type": "markdown",
      "metadata": {
        "id": "ZojG7MsOQUvo"
      },
      "source": [
        "Matriz de distancias"
      ]
    },
    {
      "cell_type": "code",
      "metadata": {
        "id": "eMu3esawXx-Y"
      },
      "source": [
        "ntotal=len(X)\n",
        "evalu=[]\n",
        "for i in range(ntotal):\n",
        "    ss=[]\n",
        "    for j in range(ntotal):\n",
        "        ss.append(0)\n",
        "    evalu.append(ss)\n",
        "for i in range(ntotal):\n",
        "    for j in range(ntotal):\n",
        "        if j>i:\n",
        "            evalu[i][j]=haversine(X[i], X[j])\n",
        "            evalu[j][i]=evalu[i][j]"
      ],
      "execution_count": 10,
      "outputs": []
    },
    {
      "cell_type": "markdown",
      "metadata": {
        "id": "FCoPEpoFQbGG"
      },
      "source": [
        "##Fase de construcción"
      ]
    },
    {
      "cell_type": "markdown",
      "metadata": {
        "id": "K5L0KuKXQYrQ"
      },
      "source": [
        "Funciones necesarias"
      ]
    },
    {
      "cell_type": "code",
      "metadata": {
        "id": "wkJmtK2QXx-Y"
      },
      "source": [
        "def f(y,C):\n",
        "    cliente1=[]\n",
        "    cliente2=[]\n",
        "    cliente3=[]\n",
        "    cliente4=[]\n",
        "    cliente5=[]\n",
        "    cliente6=[]\n",
        "    dist=0\n",
        "    maximos=[]\n",
        "    for i in range(len(y)):\n",
        "        if y[i]==0:\n",
        "            cliente1.append(i)\n",
        "        if y[i]==1:\n",
        "            cliente2.append(i)\n",
        "        if y[i]==2:\n",
        "            cliente3.append(i)\n",
        "        if y[i]==3:\n",
        "            cliente4.append(i)\n",
        "        if y[i]==4:\n",
        "            cliente5.append(i)\n",
        "        if y[i]==5:\n",
        "            cliente6.append(i)\n",
        "    aux=[]\n",
        "    for i in cliente1:\n",
        "        aux.append(evalu[C[0]][i])\n",
        "    maximos.append(max(aux))\n",
        "    dist+=max(aux)\n",
        "    aux=[]\n",
        "    for i in cliente2:\n",
        "        aux.append(evalu[C[1]][i])\n",
        "    maximos.append(max(aux))\n",
        "    dist+=max(aux)\n",
        "    aux=[]\n",
        "    for i in cliente3:\n",
        "        aux.append(evalu[C[2]][i])\n",
        "    maximos.append(max(aux))\n",
        "    dist+=max(aux)\n",
        "    aux=[]\n",
        "    for i in cliente4:\n",
        "        aux.append(evalu[C[3]][i])\n",
        "    maximos.append(max(aux))\n",
        "    dist+=max(aux)\n",
        "    aux=[]\n",
        "    for i in cliente5:\n",
        "        aux.append(evalu[C[4]][i])\n",
        "    maximos.append(max(aux))\n",
        "    dist+=max(aux)\n",
        "    aux=[]\n",
        "    for i in cliente6:\n",
        "        aux.append(evalu[C[5]][i])\n",
        "    maximos.append(max(aux))\n",
        "    dist+=max(aux)\n",
        "    return dist,maximos \n",
        "def centros(X):\n",
        "    C=[]\n",
        "    aux=random.choice(X)\n",
        "    while(aux[1]!=1):\n",
        "        aux=random.choice(X)\n",
        "    C.append(int(aux[0]))\n",
        "    dist=evalu[int(C[0]-1)]\n",
        "    aux=random.choice(dist)\n",
        "    while(aux<=mean(dist)*0.7):\n",
        "        aux=random.choice(dist)\n",
        "    indx=dist.index(aux)\n",
        "    C.append(int(X[indx][0]))\n",
        "    for i in range(4):\n",
        "        dist=np.array(dist)\n",
        "        dist+=np.array(evalu[int(C[i+1]-1)])\n",
        "        dist=list(dist)\n",
        "        aux=random.choice(dist)\n",
        "        while(aux<=mean(dist)*0.9):\n",
        "            aux=random.choice(dist)\n",
        "        indx=dist.index(aux)\n",
        "        C.append(int(X[indx][0]))    \n",
        "    return C\n",
        "\n",
        "def clientes(C,X,asig,frec):\n",
        "    for i in range(6):\n",
        "        dist=evalu[C[i]-1].copy()\n",
        "        dist[C[i]-1]=1000000000\n",
        "        asig[i][C[i]-1]=1\n",
        "        frec[C[i]-1]-=1\n",
        "        maxv=X[C[i]-1][2]\n",
        "        j=1\n",
        "        f=[]\n",
        "        for k in range(len(frec)):\n",
        "            if(frec[k]>1):\n",
        "                f.append(dist[k])\n",
        "        for k in range(len(f)):\n",
        "            aux=min(f)\n",
        "            ind=f.index(aux)\n",
        "            indx=dist.index(aux)\n",
        "            while(frec[indx]<1):\n",
        "                dist[indx]=10000000000\n",
        "                f[ind]=10000000000\n",
        "                aux=min(f)\n",
        "                indx=dist.index(aux)\n",
        "                ind=f.index(aux)\n",
        "            dist[indx]=1000000000\n",
        "            f[ind]=10000000000\n",
        "            asig[i][indx]=1\n",
        "            frec[indx]-=1\n",
        "            maxv+=X[indx][2]\n",
        "            j=j+1\n",
        "        while(sum(frec)>=1):\n",
        "                aux=min(dist)\n",
        "                indx=dist.index(aux)\n",
        "                while(frec[indx]<1):\n",
        "                    dist[indx]=10000000000\n",
        "                    aux=min(dist)\n",
        "                    indx=dist.index(aux)\n",
        "                dist[indx]=1000000000\n",
        "                asig[i][indx]=1\n",
        "                frec[indx]-=1\n",
        "                maxv+=X[indx][2]\n",
        "                j=j+1\n",
        "                if(maxv>=vlim*1.1):\n",
        "                    break\n",
        "                if(j>=climit*1.1):\n",
        "                    break\n",
        "        print(maxv,vlim,j,climit)"
      ],
      "execution_count": 11,
      "outputs": []
    },
    {
      "cell_type": "markdown",
      "metadata": {
        "id": "Ghl6eCeuQiZn"
      },
      "source": [
        "Construcción de los territorios iniciales"
      ]
    },
    {
      "cell_type": "code",
      "metadata": {
        "colab": {
          "base_uri": "https://localhost:8080/"
        },
        "id": "Rh7KxCbwXx-Y",
        "outputId": "77066722-0d92-4075-bcc0-a57192f6a538"
      },
      "source": [
        "k=False\n",
        "while( k==False):\n",
        "    asig=[]\n",
        "    for i in range(6):\n",
        "        ss=[]\n",
        "        for j in range(ntotal):\n",
        "            ss.append(0)\n",
        "        asig.append(ss)\n",
        "    frec=list(np.array(data.Frecuencia))\n",
        "\n",
        "    a=centros(X)\n",
        "\n",
        "    print(a)\n",
        "\n",
        "    clientes(a,X,asig,frec)\n",
        "    j=0\n",
        "\n",
        "    for i in frec:\n",
        "        if(i==0):\n",
        "            j+=1\n",
        "    if(j==3625):\n",
        "        k=True\n",
        "        "
      ],
      "execution_count": 142,
      "outputs": [
        {
          "output_type": "stream",
          "text": [
            "[2460, 110, 36, 443, 1799, 581]\n",
            "9986.499999996 9066.666666664665 634 662.8333333333334\n",
            "10033.499999996 9066.666666664665 641 662.8333333333334\n",
            "8305.000000003 9066.666666664665 730 662.8333333333334\n",
            "9881.16666666 9066.666666664665 730 662.8333333333334\n",
            "9187.333333333 9066.666666664665 730 662.8333333333334\n",
            "7006.5 9066.666666664665 512 662.8333333333334\n",
            "[1122, 272, 827, 2506, 2426, 2597]\n",
            "9974.499999996 9066.666666664665 676 662.8333333333334\n",
            "9228.499999996 9066.666666664665 730 662.8333333333334\n",
            "9928.833333333001 9066.666666664665 730 662.8333333333334\n",
            "9686.99999999 9066.666666664665 730 662.8333333333334\n",
            "9981.000000003 9066.666666664665 657 662.8333333333334\n",
            "5424.16666667 9066.666666664665 454 662.8333333333334\n",
            "[2795, 1936, 1345, 1551, 292, 1500]\n",
            "9981.499999996 9066.666666664665 670 662.8333333333334\n",
            "9975.999999996 9066.666666664665 705 662.8333333333334\n",
            "9980.83333333 9066.666666664665 639 662.8333333333334\n",
            "9991.166666673 9066.666666664665 711 662.8333333333334\n",
            "8424.500000003001 9066.666666664665 730 662.8333333333334\n",
            "6040.6666666599995 9066.666666664665 522 662.8333333333334\n",
            "[1151, 3030, 3371, 1009, 2168, 342]\n",
            "9973.499999996 9066.666666664665 600 662.8333333333334\n",
            "8633.999999996 9066.666666664665 730 662.8333333333334\n",
            "9030.500000003001 9066.666666664665 730 662.8333333333334\n",
            "9603.83333333 9066.666666664665 730 662.8333333333334\n",
            "9979.83333333 9066.666666664665 648 662.8333333333334\n",
            "7214.333333333 9066.666666664665 539 662.8333333333334\n",
            "[3255, 3510, 3261, 1731, 135, 2390]\n",
            "9989.499999995998 9066.666666664665 656 662.8333333333334\n",
            "9973.499999996 9066.666666664665 614 662.8333333333334\n",
            "8774.16666667 9066.666666664665 730 662.8333333333334\n",
            "9989.66666666 9066.666666664665 674 662.8333333333334\n",
            "8781.166666663 9066.666666664665 730 662.8333333333334\n",
            "6898.000000003 9066.666666664665 573 662.8333333333334\n",
            "[1423, 665, 3151, 328, 725, 1419]\n",
            "9993.499999995998 9066.666666664665 625 662.8333333333334\n",
            "8031.999999996 9066.666666664665 730 662.8333333333334\n",
            "8578.16666667 9066.666666664665 730 662.8333333333334\n",
            "9982.49999999 9066.666666664665 637 662.8333333333334\n",
            "10011.166666663 9066.666666664665 717 662.8333333333334\n",
            "7821.666666673001 9066.666666664665 538 662.8333333333334\n",
            "[949, 1093, 3244, 2283, 2043, 3414]\n",
            "9989.499999996002 9066.666666664665 598 662.8333333333334\n",
            "8193.499999996 9066.666666664665 730 662.8333333333334\n",
            "9588.833333343 9066.666666664665 730 662.8333333333334\n",
            "9975.66666666 9066.666666664665 665 662.8333333333334\n",
            "9982.999999992999 9066.666666664665 657 662.8333333333334\n",
            "6666.5 9066.666666664665 597 662.8333333333334\n",
            "[3227, 2737, 840, 3214, 2230, 328]\n",
            "10040.499999996002 9066.666666664665 589 662.8333333333334\n",
            "9974.499999996 9066.666666664665 709 662.8333333333334\n",
            "8506.66666667 9066.666666664665 730 662.8333333333334\n",
            "8754.333333333001 9066.666666664665 730 662.8333333333334\n",
            "9984.500000003 9066.666666664665 674 662.8333333333334\n",
            "7107.499999989999 9066.666666664665 545 662.8333333333334\n",
            "[2562, 3098, 3466, 2329, 1506, 1262]\n",
            "10068.499999996 9066.666666664665 672 662.8333333333334\n",
            "10002.499999996 9066.666666664665 727 662.8333333333334\n",
            "8754.16666667 9066.666666664665 730 662.8333333333334\n",
            "9988.333333333001 9066.666666664665 730 662.8333333333334\n",
            "9981.999999992999 9066.666666664665 648 662.8333333333334\n",
            "5514.5 9066.666666664665 470 662.8333333333334\n",
            "[548, 1895, 3363, 1201, 1514, 661]\n",
            "9994.499999996002 9066.666666664665 637 662.8333333333334\n",
            "9973.999999996 9066.666666664665 668 662.8333333333334\n",
            "8239.66666667 9066.666666664665 730 662.8333333333334\n",
            "9994.66666666 9066.666666664665 677 662.8333333333334\n",
            "9686.833333333001 9066.666666664665 730 662.8333333333334\n",
            "6551.333333333 9066.666666664665 535 662.8333333333334\n",
            "[1693, 2181, 2008, 788, 1727, 2384]\n",
            "9988.499999996002 9066.666666664665 617 662.8333333333334\n",
            "8762.999999996 9066.666666664665 730 662.8333333333334\n",
            "9833.833333333 9066.666666664665 730 662.8333333333334\n",
            "9328.000000003001 9066.666666664665 730 662.8333333333334\n",
            "10001.16666666 9066.666666664665 604 662.8333333333334\n",
            "6472.5 9066.666666664665 566 662.8333333333334\n",
            "[1535, 1596, 502, 2628, 2697, 2857]\n",
            "10009.499999996002 9066.666666664665 583 662.8333333333334\n",
            "9876.499999996 9066.666666664665 730 662.8333333333334\n",
            "9718.99999999 9066.666666664665 730 662.8333333333334\n",
            "8704.66666667 9066.666666664665 730 662.8333333333334\n",
            "9876.666666666 9066.666666664665 730 662.8333333333334\n",
            "6231.66666667 9066.666666664665 474 662.8333333333334\n",
            "[2800, 718, 187, 885, 1477, 1429]\n",
            "10023.499999996002 9066.666666664665 567 662.8333333333334\n",
            "9997.999999996 9066.666666664665 719 662.8333333333334\n",
            "8847.000000003001 9066.666666664665 730 662.8333333333334\n",
            "9977.16666666 9066.666666664665 710 662.8333333333334\n",
            "9342.333333333001 9066.666666664665 730 662.8333333333334\n",
            "6218.0 9066.666666664665 521 662.8333333333334\n",
            "[1720, 356, 2231, 2451, 1249, 133]\n",
            "9973.499999996002 9066.666666664665 584 662.8333333333334\n",
            "9520.999999996 9066.666666664665 730 662.8333333333334\n",
            "9977.666666663 9066.666666664665 705 662.8333333333334\n",
            "9981.66666666 9066.666666664665 702 662.8333333333334\n",
            "8149.666666673 9066.666666664665 730 662.8333333333334\n",
            "6777.5 9066.666666664665 526 662.8333333333334\n",
            "[2543, 637, 1501, 2071, 242, 1263]\n",
            "9999.499999996 9066.666666664665 681 662.8333333333334\n",
            "10006.999999996 9066.666666664665 707 662.8333333333334\n",
            "9980.66666666 9066.666666664665 571 662.8333333333334\n",
            "8724.49999999 9066.666666664665 730 662.8333333333334\n",
            "9047.666666676 9066.666666664665 730 662.8333333333334\n",
            "6687.66666667 9066.666666664665 558 662.8333333333334\n",
            "[3079, 3567, 2599, 498, 589, 170]\n",
            "9980.499999995998 9066.666666664665 617 662.8333333333334\n",
            "9973.499999996 9066.666666664665 728 662.8333333333334\n",
            "8687.16666667 9066.666666664665 730 662.8333333333334\n",
            "9276.99999999 9066.666666664665 730 662.8333333333334\n",
            "9973.500000003001 9066.666666664665 620 662.8333333333334\n",
            "6523.833333333 9066.666666664665 552 662.8333333333334\n",
            "[2355, 858, 3335, 2904, 2067, 470]\n",
            "9976.499999996 9066.666666664665 672 662.8333333333334\n",
            "9976.999999996 9066.666666664665 585 662.8333333333334\n",
            "9968.833333333 9066.666666664665 730 662.8333333333334\n",
            "8288.49999999 9066.666666664665 730 662.8333333333334\n",
            "9830.166666673002 9066.666666664665 730 662.8333333333334\n",
            "6495.0 9066.666666664665 530 662.8333333333334\n",
            "[692, 2425, 3152, 2838, 2311, 421]\n",
            "10014.499999996002 9066.666666664665 629 662.8333333333334\n",
            "8540.499999996 9066.666666664665 730 662.8333333333334\n",
            "9982.833333333001 9066.666666664665 724 662.8333333333334\n",
            "8988.500000003 9066.666666664665 730 662.8333333333334\n",
            "9977.66666666 9066.666666664665 577 662.8333333333334\n",
            "6882.0 9066.666666664665 587 662.8333333333334\n",
            "[2855, 1617, 882, 2035, 2257, 1890]\n",
            "10059.499999996 9066.666666664665 711 662.8333333333334\n",
            "9976.999999996 9066.666666664665 728 662.8333333333334\n",
            "8781.500000003 9066.666666664665 730 662.8333333333334\n",
            "9679.833333343002 9066.666666664665 730 662.8333333333334\n",
            "9988.49999999 9066.666666664665 687 662.8333333333334\n",
            "6036.6666666599995 9066.666666664665 391 662.8333333333334\n",
            "[1808, 1428, 346, 2840, 51, 1051]\n",
            "9981.499999996 9066.666666664665 691 662.8333333333334\n",
            "10017.999999996 9066.666666664665 617 662.8333333333334\n",
            "9419.49999999 9066.666666664665 730 662.8333333333334\n",
            "9044.500000003001 9066.666666664665 730 662.8333333333334\n",
            "9975.500000003001 9066.666666664665 714 662.8333333333334\n",
            "5967.0 9066.666666664665 495 662.8333333333334\n",
            "[249, 2553, 961, 980, 491, 417]\n",
            "9980.499999996 9066.666666664665 620 662.8333333333334\n",
            "9644.499999996 9066.666666664665 730 662.8333333333334\n",
            "8881.500000003001 9066.666666664665 730 662.8333333333334\n",
            "8147.0 9066.666666664665 730 662.8333333333334\n",
            "10030.833333333001 9066.666666664665 608 662.8333333333334\n",
            "7725.66666666 9066.666666664665 559 662.8333333333334\n",
            "[343, 1683, 3121, 2288, 2769, 2781]\n",
            "9979.499999996 9066.666666664665 526 662.8333333333334\n",
            "9973.499999996 9066.666666664665 703 662.8333333333334\n",
            "8542.666666663 9066.666666664665 730 662.8333333333334\n",
            "8311.66666667 9066.666666664665 730 662.8333333333334\n",
            "9891.33333334 9066.666666664665 730 662.8333333333334\n",
            "7698.333333322999 9066.666666664665 558 662.8333333333334\n",
            "[2500, 414, 1821, 900, 1935, 370]\n",
            "9975.499999995998 9066.666666664665 657 662.8333333333334\n",
            "9983.999999996 9066.666666664665 619 662.8333333333334\n",
            "8317.500000003001 9066.666666664665 730 662.8333333333334\n",
            "10037.000000003001 9066.666666664665 676 662.8333333333334\n",
            "9728.49999999 9066.666666664665 730 662.8333333333334\n",
            "6428.5 9066.666666664665 565 662.8333333333334\n",
            "[2122, 3471, 1245, 1411, 1200, 1584]\n",
            "9976.499999996 9066.666666664665 628 662.8333333333334\n",
            "8714.499999996 9066.666666664665 730 662.8333333333334\n",
            "9974.16666667 9066.666666664665 646 662.8333333333334\n",
            "9832.499999993 9066.666666664665 730 662.8333333333334\n",
            "9013.0 9066.666666664665 730 662.8333333333334\n",
            "6887.333333332999 9066.666666664665 513 662.8333333333334\n",
            "[2486, 3535, 1406, 2317, 3315, 2914]\n",
            "10063.499999996 9066.666666664665 637 662.8333333333334\n",
            "10011.999999996 9066.666666664665 718 662.8333333333334\n",
            "9553.833333333001 9066.666666664665 730 662.8333333333334\n",
            "9979.833333319999 9066.666666664665 635 662.8333333333334\n",
            "8851.16666667 9066.666666664665 730 662.8333333333334\n",
            "5939.666666673001 9066.666666664665 527 662.8333333333334\n"
          ],
          "name": "stdout"
        }
      ]
    },
    {
      "cell_type": "markdown",
      "metadata": {
        "id": "71SZr4m8Q86v"
      },
      "source": [
        "Prueba de factibilidad"
      ]
    },
    {
      "cell_type": "code",
      "metadata": {
        "id": "JT67kxzeXx-Y"
      },
      "source": [
        "len\n",
        "for i in frec:\n",
        "    if(i!=0):\n",
        "        print(i)"
      ],
      "execution_count": 143,
      "outputs": []
    },
    {
      "cell_type": "markdown",
      "metadata": {
        "id": "8b_3fgNmRBu3"
      },
      "source": [
        "Gráfica de territorios"
      ]
    },
    {
      "cell_type": "code",
      "metadata": {
        "colab": {
          "base_uri": "https://localhost:8080/",
          "height": 268
        },
        "id": "WhzUG5ZkXx-Y",
        "outputId": "ac8111d9-71a0-4ad5-eaf2-92dac693621f"
      },
      "source": [
        "x=0\n",
        "colores=['red','green','orange','cyan','yellow','black']\n",
        "for i in range(len(a)):\n",
        "    plt.scatter(data.lat[a[i]-1],data.lon[a[i]-1],c=colores[i],s=200)\n",
        "    for j in range(len(asig[i])):\n",
        "        if(asig[i][j]==1):\n",
        "            plt.scatter(data.lat[j],data.lon[j],c=colores[i])"
      ],
      "execution_count": 14,
      "outputs": [
        {
          "output_type": "display_data",
          "data": {
            "image/png": "[encoded data removed]",
            "text/plain": [
              "<Figure size 432x288 with 1 Axes>"
            ]
          },
          "metadata": {
            "tags": [],
            "needs_background": "light"
          }
        }
      ]
    },
    {
      "cell_type": "markdown",
      "metadata": {
        "id": "UKXmMUyBrFuW"
      },
      "source": [
        "##Fase de Post-Procesamiento"
      ]
    },
    {
      "cell_type": "markdown",
      "metadata": {
        "id": "TWY6Yg4JLaeX"
      },
      "source": [
        "Valor deseado de volumen y clientes."
      ]
    },
    {
      "cell_type": "code",
      "metadata": {
        "id": "IlvuNTUBo959"
      },
      "source": [
        "mu_1 = climit\n",
        "mu_2 = vlim"
      ],
      "execution_count": 34,
      "outputs": []
    },
    {
      "cell_type": "markdown",
      "metadata": {
        "id": "T6UpH8BYn3bB"
      },
      "source": [
        "Se crea una matriz con el id de cada cliente segun el territorio"
      ]
    },
    {
      "cell_type": "code",
      "metadata": {
        "id": "AS2WamyUbMU3"
      },
      "source": [
        "def codif(M):\n",
        "  S1 = []\n",
        "  for i in range(6):\n",
        "    aux = []\n",
        "    for j in range(len(M[i])):\n",
        "      if(M[i][j]==1):\n",
        "        aux.append(j)\n",
        "    S1.append(aux)\n",
        "  return S1"
      ],
      "execution_count": 254,
      "outputs": []
    },
    {
      "cell_type": "code",
      "metadata": {
        "id": "Opp1uj8OMOIP"
      },
      "source": [
        "S = codif(asig)"
      ],
      "execution_count": 255,
      "outputs": []
    },
    {
      "cell_type": "markdown",
      "metadata": {
        "id": "XzibxUP5oJhn"
      },
      "source": [
        "Función que obtiene el centro que minimiza la distancia máxima "
      ]
    },
    {
      "cell_type": "code",
      "metadata": {
        "id": "NCy-vH4OcjTZ"
      },
      "source": [
        "def centro(nodos):\n",
        "  max_dist = []\n",
        "  for i in nodos:\n",
        "    aux1 = []\n",
        "    for j in nodos:\n",
        "      aux1.append(evalu[i][j])\n",
        "    max_dist.append(max(aux1))\n",
        "  return int(nodos[np.argmin(max_dist)])"
      ],
      "execution_count": 35,
      "outputs": []
    },
    {
      "cell_type": "markdown",
      "metadata": {
        "id": "hCm1B9A_oTqN"
      },
      "source": [
        "Funciones objetivo para optimizar"
      ]
    },
    {
      "cell_type": "code",
      "metadata": {
        "id": "8p0zxQlcoYS8"
      },
      "source": [
        "def z_1(S):\n",
        "  dist = []\n",
        "  for i in range(6):\n",
        "    for j in S[i]:\n",
        "      dist.append(evalu[j][a[i]])\n",
        "  return max(dist)\n",
        "\n",
        "def z_2(S):\n",
        "  aux = []\n",
        "  for i in range(6):\n",
        "    w_1 = len(S[i])\n",
        "    aux.append(max([w_1-mu_1,mu_1-w_1]))\n",
        "  aux1 = 1/mu_1\n",
        "  aux2 = max(aux)\n",
        "  return aux1*aux2\n",
        "\n",
        "def z_3(S,tau):\n",
        "  aux = []\n",
        "  for i in range(6):\n",
        "    w_2 = 0\n",
        "    for j in S[i]:\n",
        "      w_2 += X[j][1]\n",
        "    aux.append(max([w_2-(1+tau)*mu_2,(1-tau)*mu_2-w_2,0]))\n",
        "  aux1 = 1/mu_2\n",
        "  aux2 = np.sum(aux)\n",
        "  return aux1*aux2"
      ],
      "execution_count": 230,
      "outputs": []
    },
    {
      "cell_type": "markdown",
      "metadata": {
        "id": "df0TKC2updtL"
      },
      "source": [
        "Función para copiar matrices"
      ]
    },
    {
      "cell_type": "code",
      "metadata": {
        "id": "C3VaKAMfpSC4"
      },
      "source": [
        "def copia(S):\n",
        "  S1 = []\n",
        "  for i in range(len(S)):\n",
        "    S1.append(list(S[i]))\n",
        "  return S1"
      ],
      "execution_count": 231,
      "outputs": []
    },
    {
      "cell_type": "markdown",
      "metadata": {
        "id": "5Z1A__DyphnV"
      },
      "source": [
        "Y ahora las funciones para intercambiar nodos, primeramente la (1,0)-Reubicación"
      ]
    },
    {
      "cell_type": "code",
      "metadata": {
        "id": "_jd3y4mAplSy"
      },
      "source": [
        "def R1(S,max,tau):\n",
        "  S1 = copia(S)\n",
        "  #primera función a optimizar\n",
        "  f1 = z_1(S1)\n",
        "  a = 0\n",
        "  i = 0\n",
        "  while ((a==0) and (i<=max)):\n",
        "    k = random.sample(list(range(6)),2)\n",
        "    #Elige un nodo al azar\n",
        "    i_k = random.sample(S1[k[0]],1)\n",
        "    #Busca un nodo que no se encuentre en el otro territorio\n",
        "    while (i_k[0] in S1[k[1]]):\n",
        "      i_k = random.sample(S1[k[0]],1)\n",
        "    S2 = copia(S1)\n",
        "    #Elimina el nodo de un territorio para colocarlo en el otro\n",
        "    S2[k[0]].remove(i_k[0])\n",
        "    S2[k[1]].append(i_k[0])\n",
        "    f2 = z_1(S2)\n",
        "    #Evalua el desempeño de la nueva partición \n",
        "    if (f2<f1):\n",
        "      S1 = copia(S2)\n",
        "      a=1\n",
        "    i+=1\n",
        "\n",
        "  #Segunda función a optimizar\n",
        "  f1 = z_2(S1)\n",
        "  a = 0\n",
        "  i = 0\n",
        "  while (a==0 and i<=max):\n",
        "    k = random.sample(list(range(6)),2)\n",
        "    #Elige un nodo al azar\n",
        "    i_k = random.sample(S1[k[0]],1)\n",
        "    #Busca un nodo que no se encuentre en el otro territorio\n",
        "    while (i_k[0] in S1[k[1]]):\n",
        "      i_k = random.sample(S1[k[0]],1)\n",
        "    S2 = copia(S1)\n",
        "    #Elimina el nodo de un territorio para colocarlo en el otro\n",
        "    S2[k[0]].remove(i_k[0])\n",
        "    S2[k[1]].append(i_k[0])\n",
        "    #Evalua el desempeño de la nueva partición \n",
        "    f2 = z_2(S2)\n",
        "    if (f2<f1):\n",
        "      S1 = copia(S2)\n",
        "      a = 1\n",
        "    i+=1\n",
        "\n",
        "  #Tercer función a optimizar\n",
        "  f1 = z_3(S1,tau)\n",
        "  a = 0\n",
        "  i = 0\n",
        "  while (a==0 and i<=max):\n",
        "    k = random.sample(list(range(6)),2)\n",
        "    #Elige un nodo al azar\n",
        "    i_k = random.sample(S1[k[0]],1)\n",
        "    #Busca un nodo que no se encuentre en el otro territorio\n",
        "    while (i_k[0] in S1[k[1]]):\n",
        "      i_k = random.sample(S1[k[0]],1)\n",
        "    S2 = copia(S1)\n",
        "    #Elimina el nodo de un territorio para colocarlo en el otro\n",
        "    S2[k[0]].remove(i_k[0])\n",
        "    S2[k[1]].append(i_k[0])\n",
        "    #Evalua el desempeño de la nueva partición \n",
        "    f2 = z_3(S2,tau)\n",
        "    if (f2<f1):\n",
        "      S1 = copia(S2)\n",
        "      a=1\n",
        "    i+=1\n",
        "\n",
        "  #Volvemos con la primer función\n",
        "  f1 = z_1(S1)\n",
        "  a = 0\n",
        "  i = 0\n",
        "  while (a==0 and i<=max):\n",
        "    k = random.sample(list(range(6)),2)\n",
        "    #Elige un nodo al azar\n",
        "    i_k = random.sample(S1[k[0]],1)\n",
        "    #Busca un nodo que no se encuentre en el otro territorio\n",
        "    while (i_k[0] in S1[k[1]]):\n",
        "      i_k = random.sample(S1[k[0]],1)\n",
        "    S2 = copia(S1)\n",
        "    #Elimina el nodo de un territorio para colocarlo en el otro\n",
        "    S2[k[0]].remove(i_k[0])\n",
        "    S2[k[1]].append(i_k[0])\n",
        "    #Evalua el desempeño de la nueva partición \n",
        "    f2 = z_1(S2)\n",
        "    if (f2<f1):\n",
        "      S1 = copia(S2)\n",
        "      a=1\n",
        "    i+=1\n",
        "\n",
        "  return S1"
      ],
      "execution_count": 232,
      "outputs": []
    },
    {
      "cell_type": "code",
      "metadata": {
        "id": "LipalMyBpsWn"
      },
      "source": [
        "S111 = R1(S,10,.5)"
      ],
      "execution_count": 83,
      "outputs": []
    },
    {
      "cell_type": "markdown",
      "metadata": {
        "id": "LOSBRJsAplf8"
      },
      "source": [
        "Función (1,1)-Intercambio"
      ]
    },
    {
      "cell_type": "code",
      "metadata": {
        "id": "S4T6btwpplnr"
      },
      "source": [
        "def I1(S,max,tau):\n",
        "  S1 = copia(S)\n",
        "  #primera función a optimizar\n",
        "  f1 = z_1(S1)\n",
        "  a = 0\n",
        "  i = 0\n",
        "  while (a==0 and i<=max):\n",
        "    k = random.sample(list(range(6)),2)\n",
        "    #Elige un nodo al azar\n",
        "    i_k1 = random.sample(S1[k[0]],1)\n",
        "    #Busca un nodo que no se encuentre en el otro territorio\n",
        "    while (i_k1[0] in S1[k[1]]):\n",
        "      i_k1 = random.sample(S1[k[0]],1)\n",
        "    #Ahora en el otro territorio\n",
        "    i_k2 = random.sample(S1[k[1]],1)\n",
        "    #Busca un nodo que no se encuentre en el otro territorio\n",
        "    while (i_k2[0] in S1[k[0]]):\n",
        "      i_k2 = random.sample(S1[k[1]],1)\n",
        "    S2 = copia(S1)\n",
        "    #Elimina el nodo de un territorio para colocarlo en el otro\n",
        "    S2[k[0]].remove(i_k1[0])\n",
        "    S2[k[1]].append(i_k1[0])\n",
        "    S2[k[1]].remove(i_k2[0])\n",
        "    S2[k[0]].append(i_k2[0])\n",
        "    f2 = z_1(S2)\n",
        "    #Evalua el desempeño de la nueva partición \n",
        "    if (f2<f1):\n",
        "      S1 = copia(S2)\n",
        "      a=1\n",
        "    i+=1\n",
        "\n",
        "  #Segunda función a optimizar\n",
        "  f1 = z_2(S1)\n",
        "  a = 0\n",
        "  i = 0\n",
        "  while (a==0 and i<=max):\n",
        "    k = random.sample(list(range(6)),2)\n",
        "    #Elige un nodo al azar\n",
        "    i_k1 = random.sample(S1[k[0]],1)\n",
        "    #Busca un nodo que no se encuentre en el otro territorio\n",
        "    while (i_k1[0] in S1[k[1]]):\n",
        "      i_k1 = random.sample(S1[k[0]],1)\n",
        "    #Ahora en el otro territorio\n",
        "    i_k2 = random.sample(S1[k[1]],1)\n",
        "    #Busca un nodo que no se encuentre en el otro territorio\n",
        "    while (i_k2[0] in S1[k[0]]):\n",
        "      i_k2 = random.sample(S1[k[1]],1)\n",
        "    S2 = copia(S1)\n",
        "    #Elimina el nodo de un territorio para colocarlo en el otro\n",
        "    S2[k[0]].remove(i_k1[0])\n",
        "    S2[k[1]].append(i_k1[0])\n",
        "    S2[k[1]].remove(i_k2[0])\n",
        "    S2[k[0]].append(i_k2[0])\n",
        "    #Evalua el desempeño de la nueva partición \n",
        "    f2 = z_2(S2)\n",
        "    if (f2<f1):\n",
        "      S1 = copia(S2)\n",
        "      a=1\n",
        "    i+=1\n",
        "\n",
        "  #Tercer función a optimizar\n",
        "  f1 = z_3(S1,tau)\n",
        "  a = 0\n",
        "  i = 0\n",
        "  while (a==0 and i<=max):\n",
        "    k = random.sample(list(range(6)),2)\n",
        "    #Elige un nodo al azar\n",
        "    i_k1 = random.sample(S1[k[0]],1)\n",
        "    #Busca un nodo que no se encuentre en el otro territorio\n",
        "    while (i_k1[0] in S1[k[1]]):\n",
        "      i_k1 = random.sample(S1[k[0]],1)\n",
        "    #Ahora en el otro territorio\n",
        "    i_k2 = random.sample(S1[k[1]],1)\n",
        "    #Busca un nodo que no se encuentre en el otro territorio\n",
        "    while (i_k2[0] in S1[k[0]]):\n",
        "      i_k2 = random.sample(S1[k[1]],1)\n",
        "    S2 = copia(S1)\n",
        "    #Elimina el nodo de un territorio para colocarlo en el otro\n",
        "    S2[k[0]].remove(i_k1[0])\n",
        "    S2[k[1]].append(i_k1[0])\n",
        "    S2[k[1]].remove(i_k2[0])\n",
        "    S2[k[0]].append(i_k2[0])\n",
        "    #Evalua el desempeño de la nueva partición \n",
        "    f2 = z_3(S2,tau)\n",
        "    if (f2<f1):\n",
        "      S1 = copia(S2)\n",
        "      a=1\n",
        "    i+=1\n",
        "\n",
        "  #Volvemos con la primer función\n",
        "  f1 = z_1(S1)\n",
        "  a = 0\n",
        "  i = 0\n",
        "  while (a==0 and i<=max):\n",
        "    k = random.sample(list(range(6)),2)\n",
        "    #Elige un nodo al azar\n",
        "    i_k1 = random.sample(S1[k[0]],1)\n",
        "    #Busca un nodo que no se encuentre en el otro territorio\n",
        "    while (i_k1[0] in S1[k[1]]):\n",
        "      i_k1 = random.sample(S1[k[0]],1)\n",
        "    #Ahora en el otro territorio\n",
        "    i_k2 = random.sample(S1[k[1]],1)\n",
        "    #Busca un nodo que no se encuentre en el otro territorio\n",
        "    while (i_k2[0] in S1[k[0]]):\n",
        "      i_k2 = random.sample(S1[k[1]],1)\n",
        "    S2 = copia(S1)\n",
        "    #Elimina el nodo de un territorio para colocarlo en el otro\n",
        "    S2[k[0]].remove(i_k1[0])\n",
        "    S2[k[1]].append(i_k1[0])\n",
        "    S2[k[1]].remove(i_k2[0])\n",
        "    S2[k[0]].append(i_k2[0])\n",
        "    #Evalua el desempeño de la nueva partición \n",
        "    f2 = z_1(S2)\n",
        "    if (f2<f1):\n",
        "      S1 = copia(S2)\n",
        "      a=1\n",
        "    i+=1\n",
        "\n",
        "  return S1"
      ],
      "execution_count": 233,
      "outputs": []
    },
    {
      "cell_type": "code",
      "metadata": {
        "id": "YgTIDCYAqDBe"
      },
      "source": [
        "S111 = I1(S,10,.5)"
      ],
      "execution_count": 85,
      "outputs": []
    },
    {
      "cell_type": "markdown",
      "metadata": {
        "id": "A7Tn4Jb8plwO"
      },
      "source": [
        "Función (2,0)-Reubicación"
      ]
    },
    {
      "cell_type": "code",
      "metadata": {
        "id": "eAlzk23-pl3z"
      },
      "source": [
        "def R2(S,max,tau):\n",
        "  S1 = copia(S)\n",
        "  #primera función a optimizar\n",
        "  f1 = z_1(S1)\n",
        "  a = 0\n",
        "  i = 0\n",
        "  while (a==0 and i<=max):\n",
        "    k = random.sample(list(range(6)),2)\n",
        "    #Elige un nodo al azar\n",
        "    i_k = random.sample(S1[k[0]],2)\n",
        "    #Busca nodos que no se encuentren en el otro territorio\n",
        "    while ((i_k[0] in S1[k[1]]) or (i_k[1] in S1[k[1]])):\n",
        "      i_k = random.sample(S1[k[0]],2)\n",
        "    S2 = copia(S1)\n",
        "    #Elimina el nodo de un territorio para colocarlo en el otro\n",
        "    S2[k[0]].remove(i_k[1])\n",
        "    S2[k[0]].remove(i_k[0])\n",
        "    S2[k[1]].append(i_k[1])\n",
        "    S2[k[1]].append(i_k[0])\n",
        "    f2 = z_1(S2)\n",
        "    #Evalua el desempeño de la nueva partición \n",
        "    if (f2<f1):\n",
        "      S1 = copia(S2)\n",
        "      a=1\n",
        "    i+=1\n",
        "\n",
        "  #Segunda función a optimizar\n",
        "  f1 = z_2(S1)\n",
        "  a = 0\n",
        "  i = 0\n",
        "  while (a==0 and i<=max):\n",
        "    k = random.sample(list(range(6)),2)\n",
        "    #Elige un nodo al azar\n",
        "    i_k = random.sample(S1[k[0]],2)\n",
        "    #Busca nodos que no se encuentren en el otro territorio\n",
        "    while ((i_k[0] in S1[k[1]]) or (i_k[1] in S1[k[1]])):\n",
        "      i_k = random.sample(S1[k[0]],2)\n",
        "    S2 = copia(S1)\n",
        "    #Elimina el nodo de un territorio para colocarlo en el otro\n",
        "    S2[k[0]].remove(i_k[1])\n",
        "    S2[k[0]].remove(i_k[0])\n",
        "    S2[k[1]].append(i_k[1])\n",
        "    S2[k[1]].append(i_k[0])\n",
        "    #Evalua el desempeño de la nueva partición \n",
        "    f2 = z_2(S2)\n",
        "    if (f2<f1):\n",
        "      S1 = copia(S2)\n",
        "      a=1\n",
        "    i+=1\n",
        "\n",
        "  #Tercer función a optimizar\n",
        "  f1 = z_3(S1,tau)\n",
        "  a = 0\n",
        "  i = 0\n",
        "  while (a==0 and i<=max):\n",
        "    k = random.sample(list(range(6)),2)\n",
        "    #Elige un nodo al azar\n",
        "    i_k = random.sample(S1[k[0]],2)\n",
        "    #Busca nodos que no se encuentren en el otro territorio\n",
        "    while ((i_k[0] in S1[k[1]]) or (i_k[1] in S1[k[1]])):\n",
        "      i_k = random.sample(S1[k[0]],2)\n",
        "    S2 = copia(S1)\n",
        "    #Elimina el nodo de un territorio para colocarlo en el otro\n",
        "    S2[k[0]].remove(i_k[1])\n",
        "    S2[k[0]].remove(i_k[0])\n",
        "    S2[k[1]].append(i_k[1])\n",
        "    S2[k[1]].append(i_k[0])\n",
        "    #Evalua el desempeño de la nueva partición \n",
        "    f2 = z_3(S2,tau)\n",
        "    if (f2<f1):\n",
        "      S1 = copia(S2)\n",
        "      a=1\n",
        "    i+=1\n",
        " \n",
        "  #Volvemos con la primer función\n",
        "  f1 = z_1(S1)\n",
        "  a = 0\n",
        "  i = 0\n",
        "  while (a==0 and i<=max):\n",
        "    k = random.sample(list(range(6)),2)\n",
        "    #Elige un nodo al azar\n",
        "    i_k = random.sample(S1[k[0]],2)\n",
        "    #Busca nodos que no se encuentren en el otro territorio\n",
        "    while ((i_k[0] in S1[k[1]]) or (i_k[1] in S1[k[1]])):\n",
        "      i_k = random.sample(S1[k[0]],2)\n",
        "    S2 = copia(S1)\n",
        "    #Elimina el nodo de un territorio para colocarlo en el otro\n",
        "    S2[k[0]].remove(i_k[1])\n",
        "    S2[k[0]].remove(i_k[0])\n",
        "    S2[k[1]].append(i_k[1])\n",
        "    S2[k[1]].append(i_k[0])\n",
        "    #Evalua el desempeño de la nueva partición \n",
        "    f2 = z_1(S2)\n",
        "    if (f2<f1):\n",
        "      S1 = copia(S2)\n",
        "      a=1\n",
        "    i+=1\n",
        "\n",
        "  return S1"
      ],
      "execution_count": 234,
      "outputs": []
    },
    {
      "cell_type": "code",
      "metadata": {
        "id": "5o6JHKwIqLnG"
      },
      "source": [
        "S111 = R2(S,10,.5)"
      ],
      "execution_count": 87,
      "outputs": []
    },
    {
      "cell_type": "markdown",
      "metadata": {
        "id": "tKnsSBPMqLyK"
      },
      "source": [
        "Función (2,2)-Intercambio"
      ]
    },
    {
      "cell_type": "code",
      "metadata": {
        "id": "R3FUmVSdqMD-"
      },
      "source": [
        "def I2(S,max,tau):\n",
        "  S1 = copia(S)\n",
        "  #primera función a optimizar\n",
        "  f1 = z_1(S1)\n",
        "  a = 0\n",
        "  i = 0\n",
        "  while (a==0 and i<=max):\n",
        "    k = random.sample(list(range(6)),2)\n",
        "    #Elige un nodo al azar\n",
        "    i_k1 = random.sample(S1[k[0]],2)\n",
        "    #Busca nodos que no se encuentren en el otro territorio\n",
        "    while ((i_k1[0] in S1[k[1]]) or (i_k1[1] in S1[k[1]])):\n",
        "      i_k1 = random.sample(S1[k[0]],2)\n",
        "    #Elige un nodo al azar\n",
        "    i_k2 = random.sample(S1[k[1]],2)\n",
        "    #Busca nodos que no se encuentren en el otro territorio\n",
        "    while ((i_k2[0] in S1[k[0]]) or (i_k2[1] in S1[k[0]])):\n",
        "      i_k2 = random.sample(S1[k[1]],2)\n",
        "    S2 = copia(S1)\n",
        "    #Elimina el nodo de un territorio para colocarlo en el otro\n",
        "    S2[k[0]].remove(i_k1[1])\n",
        "    S2[k[0]].remove(i_k1[0])\n",
        "    S2[k[1]].append(i_k1[1])\n",
        "    S2[k[1]].append(i_k1[0])\n",
        "    S2[k[1]].remove(i_k2[1])\n",
        "    S2[k[1]].remove(i_k2[0])\n",
        "    S2[k[0]].append(i_k2[1])\n",
        "    S2[k[0]].append(i_k2[0])\n",
        "    f2 = z_1(S2)\n",
        "    #Evalua el desempeño de la nueva partición \n",
        "    if (f2<f1):\n",
        "      S1 = copia(S2)\n",
        "      a=1\n",
        "    i+=1\n",
        "\n",
        "  #Segunda función a optimizar\n",
        "  f1 = z_2(S1)\n",
        "  a = 0\n",
        "  i = 0\n",
        "  while (a==0 and i<=max):\n",
        "    k = random.sample(list(range(6)),2)\n",
        "    #Elige un nodo al azar\n",
        "    i_k1 = random.sample(S1[k[0]],2)\n",
        "    #Busca nodos que no se encuentren en el otro territorio\n",
        "    while ((i_k1[0] in S1[k[1]]) or (i_k1[1] in S1[k[1]])):\n",
        "      i_k1 = random.sample(S1[k[0]],2)\n",
        "    #Elige un nodo al azar\n",
        "    i_k2 = random.sample(S1[k[1]],2)\n",
        "    #Busca nodos que no se encuentren en el otro territorio\n",
        "    while ((i_k2[0] in S1[k[0]]) or (i_k2[1] in S1[k[0]])):\n",
        "      i_k2 = random.sample(S1[k[1]],2)\n",
        "    S2 = copia(S1)\n",
        "    #Elimina el nodo de un territorio para colocarlo en el otro\n",
        "    S2[k[0]].remove(i_k1[1])\n",
        "    S2[k[0]].remove(i_k1[0])\n",
        "    S2[k[1]].append(i_k1[1])\n",
        "    S2[k[1]].append(i_k1[0])\n",
        "    S2[k[1]].remove(i_k2[1])\n",
        "    S2[k[1]].remove(i_k2[0])\n",
        "    S2[k[0]].append(i_k2[1])\n",
        "    S2[k[0]].append(i_k2[0])\n",
        "    #Evalua el desempeño de la nueva partición \n",
        "    f2 = z_2(S2)\n",
        "    if (f2<f1):\n",
        "      S1 = copia(S2)\n",
        "      a=1\n",
        "    i+=1\n",
        "    \n",
        "  #Tercer función a optimizar\n",
        "  f1 = z_3(S1,tau)\n",
        "  a = 0\n",
        "  i = 0\n",
        "  while (a==0 and i<=max):\n",
        "    k = random.sample(list(range(6)),2)\n",
        "    #Elige un nodo al azar\n",
        "    i_k1 = random.sample(S1[k[0]],2)\n",
        "    #Busca nodos que no se encuentren en el otro territorio\n",
        "    while ((i_k1[0] in S1[k[1]]) or (i_k1[1] in S1[k[1]])):\n",
        "      i_k1 = random.sample(S1[k[0]],2)\n",
        "    #Elige un nodo al azar\n",
        "    i_k2 = random.sample(S1[k[1]],2)\n",
        "    #Busca nodos que no se encuentren en el otro territorio\n",
        "    while ((i_k2[0] in S1[k[0]]) or (i_k2[1] in S1[k[0]])):\n",
        "      i_k2 = random.sample(S1[k[1]],2)\n",
        "    S2 = copia(S1)\n",
        "    #Elimina el nodo de un territorio para colocarlo en el otro\n",
        "    S2[k[0]].remove(i_k1[1])\n",
        "    S2[k[0]].remove(i_k1[0])\n",
        "    S2[k[1]].append(i_k1[1])\n",
        "    S2[k[1]].append(i_k1[0])\n",
        "    S2[k[1]].remove(i_k2[1])\n",
        "    S2[k[1]].remove(i_k2[0])\n",
        "    S2[k[0]].append(i_k2[1])\n",
        "    S2[k[0]].append(i_k2[0])\n",
        "    #Evalua el desempeño de la nueva partición \n",
        "    f2 = z_3(S2,tau)\n",
        "    if (f2<f1):\n",
        "      S1 = copia(S2)\n",
        "      a=1\n",
        "    i+=1\n",
        "    \n",
        "  #Volvemos con la primer función\n",
        "  f1 = z_1(S1)\n",
        "  a = 0\n",
        "  i = 0\n",
        "  while (a==0 and i<=max):\n",
        "    k = random.sample(list(range(6)),2)\n",
        "    #Elige un nodo al azar\n",
        "    i_k1 = random.sample(S1[k[0]],2)\n",
        "    #Busca nodos que no se encuentren en el otro territorio\n",
        "    while ((i_k1[0] in S1[k[1]]) or (i_k1[1] in S1[k[1]])):\n",
        "      i_k1 = random.sample(S1[k[0]],2)\n",
        "    #Elige un nodo al azar\n",
        "    i_k2 = random.sample(S1[k[1]],2)\n",
        "    #Busca nodos que no se encuentren en el otro territorio\n",
        "    while ((i_k2[0] in S1[k[0]]) or (i_k2[1] in S1[k[0]])):\n",
        "      i_k2 = random.sample(S1[k[1]],2)\n",
        "    S2 = copia(S1)\n",
        "    #Elimina el nodo de un territorio para colocarlo en el otro\n",
        "    S2[k[0]].remove(i_k1[1])\n",
        "    S2[k[0]].remove(i_k1[0])\n",
        "    S2[k[1]].append(i_k1[1])\n",
        "    S2[k[1]].append(i_k1[0])\n",
        "    S2[k[1]].remove(i_k2[1])\n",
        "    S2[k[1]].remove(i_k2[0])\n",
        "    S2[k[0]].append(i_k2[1])\n",
        "    S2[k[0]].append(i_k2[0])\n",
        "    #Evalua el desempeño de la nueva partición \n",
        "    f2 = z_1(S2)\n",
        "    if (f2<f1):\n",
        "      S1 = copia(S2)\n",
        "      a=1\n",
        "    i+=1\n",
        "\n",
        "  return S1"
      ],
      "execution_count": 235,
      "outputs": []
    },
    {
      "cell_type": "code",
      "metadata": {
        "id": "EI1FqGPEqMJd"
      },
      "source": [
        "S111 = I2(S,10,.05)"
      ],
      "execution_count": 260,
      "outputs": []
    },
    {
      "cell_type": "markdown",
      "metadata": {
        "id": "qPclRUoURpSr"
      },
      "source": [
        "Optimización"
      ]
    },
    {
      "cell_type": "code",
      "metadata": {
        "id": "7sPuuOMurTUh"
      },
      "source": [
        "def optimizador(S,tau,max_1,max_2):\n",
        "  S1 = copia(S)\n",
        "  for i in range(max_1):\n",
        "    if (i%100==1):\n",
        "      print(i)\n",
        "    S2 = R1(S1,max_2,tau)\n",
        "    S3 = I1(S2,max_2,tau)\n",
        "    S4 = R2(S3,max_2,tau)\n",
        "    S1 = I2(S4,max_2,tau)\n",
        "  return S1"
      ],
      "execution_count": 271,
      "outputs": []
    },
    {
      "cell_type": "code",
      "metadata": {
        "colab": {
          "base_uri": "https://localhost:8080/"
        },
        "id": "kjftAWc-rTXf",
        "outputId": "f89c34dc-9549-409b-aede-e51c7bc73237"
      },
      "source": [
        "tau = 0.05\n",
        "max_1 = 2500\n",
        "max_2 = 10\n",
        "S_opt = optimizador(S,tau,max_1,max_2)"
      ],
      "execution_count": 272,
      "outputs": [
        {
          "output_type": "stream",
          "text": [
            "1\n",
            "101\n",
            "201\n",
            "301\n",
            "401\n",
            "501\n",
            "601\n",
            "701\n",
            "801\n",
            "901\n",
            "1001\n",
            "1101\n",
            "1201\n",
            "1301\n",
            "1401\n",
            "1501\n",
            "1601\n",
            "1701\n",
            "1801\n",
            "1901\n",
            "2001\n",
            "2101\n",
            "2201\n",
            "2301\n",
            "2401\n"
          ],
          "name": "stdout"
        }
      ]
    },
    {
      "cell_type": "markdown",
      "metadata": {
        "id": "QpAlhvuaKVzm"
      },
      "source": [
        ""
      ]
    },
    {
      "cell_type": "markdown",
      "metadata": {
        "id": "onXNIIXKxhkI"
      },
      "source": [
        "Decodificador"
      ]
    },
    {
      "cell_type": "code",
      "metadata": {
        "id": "GCAa97Pkxg1Z"
      },
      "source": [
        "def decod(S_1):\n",
        "  aux = [[0 for i in range(ntotal)] for j in range(6)]\n",
        "  for i in range(6):\n",
        "    for j in S_1[i]:\n",
        "      aux[i][j]=1\n",
        "  return aux"
      ],
      "execution_count": 216,
      "outputs": []
    },
    {
      "cell_type": "markdown",
      "metadata": {
        "id": "dWKDwf1YyCjg"
      },
      "source": [
        "Función que prueba la factibilidad"
      ]
    },
    {
      "cell_type": "code",
      "metadata": {
        "id": "TqLzZaGZyB4U"
      },
      "source": [
        "def factib(S_1):\n",
        "  aux = decod(S_1)\n",
        "  f = True\n",
        "  for i in range(ntotal):\n",
        "    aux2 = 0\n",
        "    for j in range(6):\n",
        "      aux2 += aux[j][i]\n",
        "    if(aux2!=X[i][1]):\n",
        "      f = False\n",
        "  return f"
      ],
      "execution_count": 208,
      "outputs": []
    },
    {
      "cell_type": "markdown",
      "metadata": {
        "id": "obaSElI9RJFI"
      },
      "source": [
        "Prueba de factibilidad"
      ]
    },
    {
      "cell_type": "code",
      "metadata": {
        "colab": {
          "base_uri": "https://localhost:8080/"
        },
        "id": "rDPP53p6t6rs",
        "outputId": "156f2428-de9b-4eda-e98c-c6a57e24edd3"
      },
      "source": [
        "ff = factib(S_opt)\n",
        "ff"
      ],
      "execution_count": 273,
      "outputs": [
        {
          "output_type": "execute_result",
          "data": {
            "text/plain": [
              "True"
            ]
          },
          "metadata": {
            "tags": []
          },
          "execution_count": 273
        }
      ]
    },
    {
      "cell_type": "markdown",
      "metadata": {
        "id": "3eGGP1KkRVo9"
      },
      "source": [
        "Gáfica de zonas"
      ]
    },
    {
      "cell_type": "code",
      "metadata": {
        "id": "SahY9Bf58p0Q"
      },
      "source": [
        "asig2 = decod(S_opt)"
      ],
      "execution_count": 274,
      "outputs": []
    },
    {
      "cell_type": "code",
      "metadata": {
        "colab": {
          "base_uri": "https://localhost:8080/",
          "height": 268
        },
        "id": "AFhCnB_lRVCe",
        "outputId": "c3cdcea8-c362-47a5-c3ec-c8e17dbc3d7a"
      },
      "source": [
        "x=0\n",
        "colores=['red','green','orange','cyan','yellow','black']\n",
        "for i in range(len(a)):\n",
        "    plt.scatter(data.lat[a[i]-1],data.lon[a[i]-1],c=colores[i],s=200)\n",
        "    for j in range(len(asig2[i])):\n",
        "        if(asig2[i][j]==1):\n",
        "            plt.scatter(data.lat[j],data.lon[j],c=colores[i])"
      ],
      "execution_count": 275,
      "outputs": [
        {
          "output_type": "display_data",
          "data": {
            "image/png": "[encoded data removed]",
            "text/plain": [
              "<Figure size 432x288 with 1 Axes>"
            ]
          },
          "metadata": {
            "tags": [],
            "needs_background": "light"
          }
        }
      ]
    },
    {
      "cell_type": "markdown",
      "metadata": {
        "id": "PUrvQoBdRNUF"
      },
      "source": [
        "Creación de la base de datos"
      ]
    },
    {
      "cell_type": "code",
      "metadata": {
        "id": "ilHCtzBhXx-Y"
      },
      "source": [
        "out=pd.DataFrame(asig2)"
      ],
      "execution_count": 276,
      "outputs": []
    },
    {
      "cell_type": "code",
      "metadata": {
        "id": "MczdLMD7Xx-Y"
      },
      "source": [
        "out=out.T\n",
        "out['C'] = np.arange(1,len(out)+1)\n",
        "out.columns = ['D1','D2','D3','D4','D5','D6','Id_Cliente']\n",
        "out=out[['Id_Cliente','D1','D2','D3','D4','D5','D6']]"
      ],
      "execution_count": 277,
      "outputs": []
    },
    {
      "cell_type": "code",
      "metadata": {
        "id": "fVk8MW-5Xx-Y"
      },
      "source": [
        "out.to_csv('out.csv',index=False)"
      ],
      "execution_count": 279,
      "outputs": []
    }
  ]
}